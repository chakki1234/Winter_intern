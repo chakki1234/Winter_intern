{
  "nbformat": 4,
  "nbformat_minor": 0,
  "metadata": {
    "colab": {
      "name": "corelation_matrix.ipynb",
      "provenance": [],
      "collapsed_sections": []
    },
    "kernelspec": {
      "name": "python3",
      "display_name": "Python 3"
    }
  },
  "cells": [
    {
      "cell_type": "code",
      "metadata": {
        "colab": {
          "base_uri": "https://localhost:8080/"
        },
        "id": "M0xsEm806LQ_",
        "outputId": "d51ebfcc-e8f8-4582-b817-ae8ab9fc59f1"
      },
      "source": [
        "from google.colab import drive\n",
        "drive.mount('/content/drive')"
      ],
      "execution_count": 1,
      "outputs": [
        {
          "output_type": "stream",
          "text": [
            "Mounted at /content/drive\n"
          ],
          "name": "stdout"
        }
      ]
    },
    {
      "cell_type": "code",
      "metadata": {
        "colab": {
          "base_uri": "https://localhost:8080/"
        },
        "id": "La5pqEMl6wuu",
        "outputId": "8e195517-c68f-466f-8be6-4ce8d3fddfd5"
      },
      "source": [
        "cd drive/MyDrive/'Colab Notebooks'/'correlation matrix'"
      ],
      "execution_count": 2,
      "outputs": [
        {
          "output_type": "stream",
          "text": [
            "/content/drive/MyDrive/Colab Notebooks/correlation matrix\n"
          ],
          "name": "stdout"
        }
      ]
    },
    {
      "cell_type": "code",
      "metadata": {
        "id": "rL_l-2LEAj5i"
      },
      "source": [
        "import pandas as pd\n",
        "import numpy as np"
      ],
      "execution_count": 3,
      "outputs": []
    },
    {
      "cell_type": "code",
      "metadata": {
        "id": "6EjR2p696_78"
      },
      "source": [
        "stothram_file = open('aigiri.txt', 'r')\n",
        "stothram_txt = stothram_file.read()\n",
        "stothram_file.close()"
      ],
      "execution_count": 4,
      "outputs": []
    },
    {
      "cell_type": "code",
      "metadata": {
        "id": "6c_HiX1W7Zwj"
      },
      "source": [
        "slokams = []\n",
        "for sloka in stothram_txt.split('||'):\n",
        "  if not sloka.replace(' ', '').isnumeric() and not sloka == '\\n':\n",
        "    slokams.append( sloka.replace('|', '').replace('\\n', '') )"
      ],
      "execution_count": 5,
      "outputs": []
    },
    {
      "cell_type": "code",
      "metadata": {
        "id": "wreOS4Tm7iXq"
      },
      "source": [
        "correlation_dict = {}\n",
        "\n",
        "for index, sloka in enumerate(slokams):\n",
        "  temp = []\n",
        "  for words in sloka.split(' '):\n",
        "    for char in words:\n",
        "      temp.append(ord(char))\n",
        "  correlation_dict[ str(index + 1) ] = np.array(temp)"
      ],
      "execution_count": 6,
      "outputs": []
    },
    {
      "cell_type": "code",
      "metadata": {
        "id": "bhLd2OQ_DY4g"
      },
      "source": [
        "length = [ len(char_array) for char_array in correlation_dict.values() ]\n",
        "max_length = max(length)\n",
        "\n",
        "for key in correlation_dict:\n",
        "  correlation_dict[key] = np.pad(correlation_dict[key], (0, max_length - len(correlation_dict[key])), 'constant') "
      ],
      "execution_count": 8,
      "outputs": []
    },
    {
      "cell_type": "code",
      "metadata": {
        "colab": {
          "base_uri": "https://localhost:8080/"
        },
        "id": "p335ixz7IbnL",
        "outputId": "845456d8-373b-4435-c122-51d5b216b126"
      },
      "source": [
        "df = pd.DataFrame( correlation_dict )\n",
        "corrMatrix = df.corr()\n",
        "print (corrMatrix)"
      ],
      "execution_count": 11,
      "outputs": [
        {
          "output_type": "stream",
          "text": [
            "           1         2         3  ...        19        20        21\n",
            "1   1.000000  0.065390  0.006677  ...  0.012252 -0.037164  0.015345\n",
            "2   0.065390  1.000000  0.026252  ...  0.041449  0.137734  0.048387\n",
            "3   0.006677  0.026252  1.000000  ...  0.739885  0.506626  0.771050\n",
            "4  -0.163124  0.049422  0.258863  ...  0.285549  0.406632  0.343809\n",
            "5  -0.046507  0.124474  0.177599  ...  0.201594  0.270312  0.179018\n",
            "6  -0.044253  0.122132  0.330162  ...  0.359855  0.437204  0.340707\n",
            "7   0.016378  0.096938  0.383393  ...  0.340579  0.426470  0.361971\n",
            "8  -0.041269  0.170773  0.310790  ...  0.407763  0.448891  0.318364\n",
            "9  -0.041483  0.070882  0.304687  ...  0.292326  0.339097  0.312445\n",
            "10  0.012098  0.154131  0.286510  ...  0.275718  0.356224  0.297171\n",
            "11 -0.162103  0.044007  0.611500  ...  0.615885  0.550065  0.715613\n",
            "12  0.048761 -0.008165 -0.052870  ... -0.039174 -0.047040 -0.031342\n",
            "13 -0.059376  0.119146  0.555483  ...  0.630868  0.479082  0.625141\n",
            "14 -0.045145  0.085724  0.517570  ...  0.587661  0.535407  0.579180\n",
            "15  0.014352  0.131582  0.419133  ...  0.418450  0.549635  0.442876\n",
            "16 -0.039298  0.187529  0.060855  ...  0.121996  0.081132  0.181234\n",
            "17 -0.062734  0.063695  0.579144  ...  0.619782  0.506523  0.717216\n",
            "18  0.009484  0.084343  0.667218  ...  0.741881  0.485691  0.771923\n",
            "19  0.012252  0.041449  0.739885  ...  1.000000  0.536451  0.890577\n",
            "20 -0.037164  0.137734  0.506626  ...  0.536451  1.000000  0.559983\n",
            "21  0.015345  0.048387  0.771050  ...  0.890577  0.559983  1.000000\n",
            "\n",
            "[21 rows x 21 columns]\n"
          ],
          "name": "stdout"
        }
      ]
    }
  ]
}