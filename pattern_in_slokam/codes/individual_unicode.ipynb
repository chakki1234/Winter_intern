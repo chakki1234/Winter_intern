{
  "nbformat": 4,
  "nbformat_minor": 0,
  "metadata": {
    "colab": {
      "name": "individual_unicode.ipynb",
      "provenance": [],
      "collapsed_sections": []
    },
    "kernelspec": {
      "name": "python3",
      "display_name": "Python 3"
    }
  },
  "cells": [
    {
      "cell_type": "code",
      "metadata": {
        "colab": {
          "base_uri": "https://localhost:8080/"
        },
        "id": "9d3YG-VGf1Ra",
        "outputId": "93a9a637-d855-4041-9492-dedcf91da20d"
      },
      "source": [
        "from google.colab import drive\n",
        "drive.mount('/content/drive')"
      ],
      "execution_count": 1,
      "outputs": [
        {
          "output_type": "stream",
          "text": [
            "Mounted at /content/drive\n"
          ],
          "name": "stdout"
        }
      ]
    },
    {
      "cell_type": "code",
      "metadata": {
        "colab": {
          "base_uri": "https://localhost:8080/"
        },
        "id": "9By-KMk4jqB3",
        "outputId": "eba96424-8c80-42ec-9727-0a3263847d21"
      },
      "source": [
        "%cd drive/MyDrive/'Colab Notebooks'/slokam_pattern"
      ],
      "execution_count": 5,
      "outputs": [
        {
          "output_type": "stream",
          "text": [
            "/content/drive/MyDrive/Colab Notebooks/slokam_pattern\n"
          ],
          "name": "stdout"
        }
      ]
    },
    {
      "cell_type": "code",
      "metadata": {
        "id": "nabPt-33j2F7"
      },
      "source": [
        "def read(file_name):\n",
        "  sloka = open(file_name, 'r')\n",
        "  sloka_txt = sloka.read()\n",
        "  sloka.close()\n",
        "  return sloka_txt"
      ],
      "execution_count": 14,
      "outputs": []
    },
    {
      "cell_type": "code",
      "metadata": {
        "id": "7hARUDuakLOe"
      },
      "source": [
        "def split_to_words(txt, out_file_name):\n",
        "  words = txt.split()\n",
        "  uni_file = open(out_file_name, 'w')\n",
        "\n",
        "  for i in words:\n",
        "      if(i !='|' and i !='||' and not(i.isdigit())):\n",
        "          for j in i:\n",
        "              uni_file.write('U+' + hex(ord(j)).replace('x', ''))\n",
        "              uni_file.write('  ')\n",
        "\n",
        "  uni_file.close()"
      ],
      "execution_count": 15,
      "outputs": []
    },
    {
      "cell_type": "code",
      "metadata": {
        "id": "wSHG7QrUz82B"
      },
      "source": [
        "split_to_words(read('aigiri_test1.txt'), 'unicode_test1.txt')\n",
        "split_to_words(read('aigiri_test2.txt'), 'unicode_test2.txt')\n",
        "split_to_words(read('aigiri.txt'), 'unicode.txt')"
      ],
      "execution_count": 17,
      "outputs": []
    }
  ]
}